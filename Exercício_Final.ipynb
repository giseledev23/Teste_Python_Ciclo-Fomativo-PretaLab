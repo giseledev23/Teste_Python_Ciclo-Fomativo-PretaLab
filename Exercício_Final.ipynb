{
  "nbformat": 4,
  "nbformat_minor": 0,
  "metadata": {
    "colab": {
      "provenance": [],
      "toc_visible": true,
      "include_colab_link": true
    },
    "kernelspec": {
      "name": "python3",
      "display_name": "Python 3"
    },
    "language_info": {
      "name": "python"
    }
  },
  "cells": [
    {
      "cell_type": "markdown",
      "metadata": {
        "id": "view-in-github",
        "colab_type": "text"
      },
      "source": [
        "<a href=\"https://colab.research.google.com/github/giseledev23/Teste_Python_Ciclo-Fomativo-PretaLab/blob/main/Exerc%C3%ADcio_Final.ipynb\" target=\"_parent\"><img src=\"https://colab.research.google.com/assets/colab-badge.svg\" alt=\"Open In Colab\"/></a>"
      ]
    },
    {
      "cell_type": "markdown",
      "source": [
        "# Contagem de Medalhas\n",
        "\n",
        "Crie um programa que receba o número de medalhas de ouro, prata e bronze de um país nas Olimpíadas e calcule o total de medalhas.\n",
        "Quando escrever 'sair', o programa deverá encerrar e mostrar na tela o ranking de medalhas no formato:"
      ],
      "metadata": {
        "id": "RQN1e5FZY6SZ"
      }
    },
    {
      "cell_type": "code",
      "source": [
        "#Ranking de medalhas:\n",
        "#Brasil: 7 medalhas\n",
        "#França: 6 medalhas\n",
        "#Argentina: 3 medalhas"
      ],
      "metadata": {
        "id": "gCq_KLHzZSzb"
      },
      "execution_count": null,
      "outputs": []
    },
    {
      "cell_type": "code",
      "execution_count": 16,
      "metadata": {
        "id": "AJJhjxiPTd5s",
        "outputId": "e92561f2-865a-485b-b3fc-281aeb29dc64",
        "colab": {
          "base_uri": "https://localhost:8080/"
        }
      },
      "outputs": [
        {
          "output_type": "stream",
          "name": "stdout",
          "text": [
            "Digite o nome do país (ou \"sair\" para encerrar): Brasil\n",
            "Digite o número de medalhas de ouro de Brasil: 3\n",
            "Digite o número de medalhas de prata de Brasil: 2\n",
            "Digite o número de medalhas de bronze de Brasil: 1\n",
            "Digite o nome do país (ou \"sair\" para encerrar): Chile\n",
            "Digite o número de medalhas de ouro de Chile: 1\n",
            "Digite o número de medalhas de prata de Chile: 3\n",
            "Digite o número de medalhas de bronze de Chile: 2\n",
            "Digite o nome do país (ou \"sair\" para encerrar): Cuba\n",
            "Digite o número de medalhas de ouro de Cuba: 2\n",
            "Digite o número de medalhas de prata de Cuba: 1\n",
            "Digite o número de medalhas de bronze de Cuba: 3\n",
            "Digite o nome do país (ou \"sair\" para encerrar): sair\n",
            "\n",
            "Ranking de Medalhas:\n",
            "Brasil: Ouro: 3, Prata: 2, Bronze: 1, Total: 6\n",
            "Cuba: Ouro: 2, Prata: 1, Bronze: 3, Total: 6\n",
            "Chile: Ouro: 1, Prata: 3, Bronze: 2, Total: 6\n"
          ]
        }
      ],
      "source": [
        "# Resposta aqui\n",
        "ranking_medalhas = {}\n",
        "\n",
        "while True:\n",
        "    pais = input('Digite o nome do país (ou \"sair\" para encerrar): ')\n",
        "\n",
        "    if pais.lower() == 'sair':\n",
        "        break\n",
        "\n",
        "\n",
        "    ouro = int(input(f'Digite o número de medalhas de ouro de {pais}: '))\n",
        "    prata = int(input(f'Digite o número de medalhas de prata de {pais}: '))\n",
        "    bronze = int(input(f'Digite o número de medalhas de bronze de {pais}: '))\n",
        "\n",
        "    total_medalhas = ouro + prata + bronze\n",
        "\n",
        "    ranking_medalhas[pais] = {\n",
        "        'Ouro': ouro,\n",
        "        'Prata': prata,\n",
        "        'Bronze': bronze,\n",
        "        'Total': total_medalhas\n",
        "    }\n",
        "\n",
        "ranking_ordenado = dict(sorted(\n",
        "    ranking_medalhas.items(),\n",
        "    key=lambda item: (item[1]['Total'], item[1]['Ouro']),\n",
        "    reverse=True\n",
        "))\n",
        "\n",
        "\n",
        "print(\"\\nRanking de Medalhas:\")\n",
        "for i, (pais, medalhas) in enumerate(ranking_ordenado.items(), start=1):\n",
        "    print(f\"{i}. {pais}: Ouro: {medalhas['Ouro']}, Prata: {medalhas['Prata']}, Bronze: {medalhas['Bronze']}, Total: {medalhas['Total']}\")\n"
      ]
    }
  ]
}